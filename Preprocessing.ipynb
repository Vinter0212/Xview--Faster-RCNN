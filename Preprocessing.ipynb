{
 "cells": [
  {
   "cell_type": "code",
   "execution_count": 1,
   "metadata": {},
   "outputs": [
    {
     "name": "stderr",
     "output_type": "stream",
     "text": [
      "C:\\Users\\vinay\\Anaconda3\\envs\\PythonGPU\\lib\\site-packages\\tensorflow\\python\\framework\\dtypes.py:526: FutureWarning: Passing (type, 1) or '1type' as a synonym of type is deprecated; in a future version of numpy, it will be understood as (type, (1,)) / '(1,)type'.\n",
      "  _np_qint8 = np.dtype([(\"qint8\", np.int8, 1)])\n",
      "C:\\Users\\vinay\\Anaconda3\\envs\\PythonGPU\\lib\\site-packages\\tensorflow\\python\\framework\\dtypes.py:527: FutureWarning: Passing (type, 1) or '1type' as a synonym of type is deprecated; in a future version of numpy, it will be understood as (type, (1,)) / '(1,)type'.\n",
      "  _np_quint8 = np.dtype([(\"quint8\", np.uint8, 1)])\n",
      "C:\\Users\\vinay\\Anaconda3\\envs\\PythonGPU\\lib\\site-packages\\tensorflow\\python\\framework\\dtypes.py:528: FutureWarning: Passing (type, 1) or '1type' as a synonym of type is deprecated; in a future version of numpy, it will be understood as (type, (1,)) / '(1,)type'.\n",
      "  _np_qint16 = np.dtype([(\"qint16\", np.int16, 1)])\n",
      "C:\\Users\\vinay\\Anaconda3\\envs\\PythonGPU\\lib\\site-packages\\tensorflow\\python\\framework\\dtypes.py:529: FutureWarning: Passing (type, 1) or '1type' as a synonym of type is deprecated; in a future version of numpy, it will be understood as (type, (1,)) / '(1,)type'.\n",
      "  _np_quint16 = np.dtype([(\"quint16\", np.uint16, 1)])\n",
      "C:\\Users\\vinay\\Anaconda3\\envs\\PythonGPU\\lib\\site-packages\\tensorflow\\python\\framework\\dtypes.py:530: FutureWarning: Passing (type, 1) or '1type' as a synonym of type is deprecated; in a future version of numpy, it will be understood as (type, (1,)) / '(1,)type'.\n",
      "  _np_qint32 = np.dtype([(\"qint32\", np.int32, 1)])\n",
      "C:\\Users\\vinay\\Anaconda3\\envs\\PythonGPU\\lib\\site-packages\\tensorflow\\python\\framework\\dtypes.py:535: FutureWarning: Passing (type, 1) or '1type' as a synonym of type is deprecated; in a future version of numpy, it will be understood as (type, (1,)) / '(1,)type'.\n",
      "  np_resource = np.dtype([(\"resource\", np.ubyte, 1)])\n"
     ]
    }
   ],
   "source": [
    "import pandas as pd\n",
    "import matplotlib.pyplot as plt\n",
    "%matplotlib inline\n",
    "from matplotlib import patches\n",
    "from PIL import Image, ImageDraw\n",
    "import tensorflow as tf\n",
    "import io\n",
    "import glob\n",
    "from tqdm import tqdm\n",
    "import numpy as np\n",
    "import logging\n",
    "import argparse\n",
    "import os\n",
    "import json\n",
    "import csv\n",
    "import skimage.filters as filters"
   ]
  },
  {
   "cell_type": "code",
   "execution_count": 2,
   "metadata": {},
   "outputs": [],
   "source": [
    "def get_labels(fname=\"xView_train.geojson\"):\n",
    "    \n",
    "    with open(fname) as f:\n",
    "        data = json.load(f)\n",
    "    \n",
    "    coords = np.zeros((len(data['features']),4))\n",
    "    chips = np.zeros((len(data['features'])),dtype=\"object\")\n",
    "    classes = np.zeros((len(data['features'])))\n",
    "    \n",
    "    for i in range(len(data['features'])):\n",
    "        if data['features'][i]['properties']['bounds_imcoords'] != []:\n",
    "            b_id = data['features'][i]['properties']['image_id']\n",
    "            val = np.array([int(num) for num in data['features'][i]['properties']['bounds_imcoords'].split(\",\")])\n",
    "            chips[i] = b_id\n",
    "            classes[i] = data['features'][i]['properties']['type_id']\n",
    "            coords[i] = val\n",
    "        else:\n",
    "            chips[i] = 'None'\n",
    "            \n",
    "    return coords, chips, classes"
   ]
  },
  {
   "cell_type": "code",
   "execution_count": 3,
   "metadata": {},
   "outputs": [],
   "source": [
    "coords, chips, classes= get_labels()"
   ]
  },
  {
   "cell_type": "code",
   "execution_count": 4,
   "metadata": {},
   "outputs": [
    {
     "data": {
      "text/plain": [
       "array([[2712., 1145., 2746., 1177.],\n",
       "       [2720., 2233., 2760., 2288.],\n",
       "       [2687., 1338., 2740., 1399.],\n",
       "       ...,\n",
       "       [2106.,  361., 2124.,  379.],\n",
       "       [1917.,   38., 1958.,   64.],\n",
       "       [2323.,   55., 2349.,   74.]])"
      ]
     },
     "execution_count": 4,
     "metadata": {},
     "output_type": "execute_result"
    }
   ],
   "source": [
    "coords"
   ]
  },
  {
   "cell_type": "code",
   "execution_count": 5,
   "metadata": {},
   "outputs": [
    {
     "data": {
      "text/plain": [
       "array(['2355.tif', '2355.tif', '2355.tif', ..., '389.tif', '389.tif',\n",
       "       '389.tif'], dtype=object)"
      ]
     },
     "execution_count": 5,
     "metadata": {},
     "output_type": "execute_result"
    }
   ],
   "source": [
    "chips"
   ]
  },
  {
   "cell_type": "code",
   "execution_count": 6,
   "metadata": {},
   "outputs": [
    {
     "data": {
      "text/plain": [
       "array([73., 73., 73., ..., 73., 73., 73.])"
      ]
     },
     "execution_count": 6,
     "metadata": {},
     "output_type": "execute_result"
    }
   ],
   "source": [
    "classes"
   ]
  },
  {
   "cell_type": "code",
   "execution_count": 7,
   "metadata": {},
   "outputs": [],
   "source": [
    "def chip_image(img,coords,classes,shape=(500,500)):\n",
    "    \"\"\"\n",
    "    Chip an image and get relative coordinates and classes.  Bounding boxes that pass into\n",
    "        multiple chips are clipped: each portion that is in a chip is labeled. For example,\n",
    "        half a building will be labeled if it is cut off in a chip. If there are no boxes,\n",
    "        the boxes array will be [[0,0,0,0]] and classes [0].\n",
    "        Note: This chip_image method is only tested on xView data-- there are some image manipulations that can mess up different images.\n",
    "    Args:\n",
    "        img: the image to be chipped in array format\n",
    "        coords: an (N,4) array of bounding box coordinates for that image\n",
    "        classes: an (N,1) array of classes for each bounding box\n",
    "        shape: an (W,H) tuple indicating width and height of chips\n",
    "    Output:\n",
    "        An image array of shape (M,W,H,C), where M is the number of chips,\n",
    "        W and H are the dimensions of the image, and C is the number of color\n",
    "        channels.  Also returns boxes and classes dictionaries for each corresponding chip.\n",
    "    \"\"\"\n",
    "    height,width,_ = img.shape\n",
    "    wn,hn = shape\n",
    "    \n",
    "    w_num,h_num = (int(width/wn),int(height/hn))\n",
    "    images = np.zeros((w_num*h_num,hn,wn,3))\n",
    "    total_boxes = {}\n",
    "    total_classes = {}\n",
    "    \n",
    "    k = 0\n",
    "    for i in range(w_num):\n",
    "        for j in range(h_num):\n",
    "            x = np.logical_or( np.logical_and((coords[:,0]<((i+1)*wn)),(coords[:,0]>(i*wn))),\n",
    "                               np.logical_and((coords[:,2]<((i+1)*wn)),(coords[:,2]>(i*wn))))\n",
    "            out = coords[x]\n",
    "            y = np.logical_or( np.logical_and((out[:,1]<((j+1)*hn)),(out[:,1]>(j*hn))),\n",
    "                               np.logical_and((out[:,3]<((j+1)*hn)),(out[:,3]>(j*hn))))\n",
    "            outn = out[y]\n",
    "            out = np.transpose(np.vstack((np.clip(outn[:,0]-(wn*i),0,wn),\n",
    "                                          np.clip(outn[:,1]-(hn*j),0,hn),\n",
    "                                          np.clip(outn[:,2]-(wn*i),0,wn),\n",
    "                                          np.clip(outn[:,3]-(hn*j),0,hn))))\n",
    "            box_classes = classes[x][y]\n",
    "        \n",
    "            if out.shape[0] != 0:\n",
    "                total_boxes[k] = out\n",
    "                total_classes[k] = box_classes\n",
    "            else:\n",
    "                total_boxes[k] = np.array([[0,0,0,0]])\n",
    "                total_classes[k] = np.array([0])\n",
    "            \n",
    "            chip = img[hn*j:hn*(j+1),wn*i:wn*(i+1),:3]\n",
    "            images[k]=chip\n",
    "            \n",
    "            k = k + 1\n",
    "    \n",
    "    return images.astype(np.uint8),total_boxes,total_classes"
   ]
  },
  {
   "cell_type": "code",
   "execution_count": 8,
   "metadata": {},
   "outputs": [],
   "source": [
    "def get_image(fname):    \n",
    "    \"\"\"\n",
    "    Get an image from a filepath in ndarray format\n",
    "    \"\"\"\n",
    "    return np.array(Image.open(fname))"
   ]
  },
  {
   "cell_type": "code",
   "execution_count": 9,
   "metadata": {},
   "outputs": [],
   "source": [
    "import glob\n",
    "image_folder= 'imagedata/'\n",
    "fnames = glob.glob(image_folder + \"*.tif\")\n",
    "fnames.sort()"
   ]
  },
  {
   "cell_type": "code",
   "execution_count": 10,
   "metadata": {},
   "outputs": [],
   "source": [
    "new_chips=[]\n",
    "new_classes=[]\n",
    "new_coords=[]"
   ]
  },
  {
   "cell_type": "code",
   "execution_count": 11,
   "metadata": {},
   "outputs": [],
   "source": [
    "for fname in fnames:\n",
    "            \n",
    "            name = fname.split(\"\\\\\")[-1]\n",
    "            arr = get_image(fname)\n",
    "           # im,box,classes_final = chip_image(arr,coords[chips==name],classes[chips==name])\n",
    "        #    for idx, image in enumerate(im):\n",
    "\n",
    "                \n",
    "#                 if not box[idx].any():\n",
    "#                     continue\n",
    "                \n",
    "         #   Image.fromarray(image).save('process/img_%s_%s.png'%(name,idx))\n",
    "            new_chips.extend([name]*len(coords[chips==name]))\n",
    "            new_classes.extend(classes[chips==name])\n",
    "            new_coords.extend(coords[chips==name])\n",
    "\n",
    "                    \n",
    "            "
   ]
  },
  {
   "cell_type": "code",
   "execution_count": 12,
   "metadata": {},
   "outputs": [],
   "source": [
    "new_coords=np.array(new_coords)\n",
    "new_classes= np.array(new_classes)\n",
    "new_chips= np.array(new_chips)\n"
   ]
  },
  {
   "cell_type": "code",
   "execution_count": 13,
   "metadata": {},
   "outputs": [],
   "source": [
    "new_coords=new_coords.T"
   ]
  },
  {
   "cell_type": "code",
   "execution_count": 14,
   "metadata": {},
   "outputs": [
    {
     "data": {
      "text/html": [
       "<div>\n",
       "<style scoped>\n",
       "    .dataframe tbody tr th:only-of-type {\n",
       "        vertical-align: middle;\n",
       "    }\n",
       "\n",
       "    .dataframe tbody tr th {\n",
       "        vertical-align: top;\n",
       "    }\n",
       "\n",
       "    .dataframe thead th {\n",
       "        text-align: right;\n",
       "    }\n",
       "</style>\n",
       "<table border=\"1\" class=\"dataframe\">\n",
       "  <thead>\n",
       "    <tr style=\"text-align: right;\">\n",
       "      <th></th>\n",
       "      <th>image_names</th>\n",
       "      <th>object_type</th>\n",
       "      <th>xmin</th>\n",
       "      <th>xmax</th>\n",
       "      <th>ymin</th>\n",
       "      <th>ymax</th>\n",
       "    </tr>\n",
       "  </thead>\n",
       "  <tbody>\n",
       "    <tr>\n",
       "      <th>0</th>\n",
       "      <td>1085.tif</td>\n",
       "      <td>73.0</td>\n",
       "      <td>-37</td>\n",
       "      <td>29</td>\n",
       "      <td>433</td>\n",
       "      <td>472</td>\n",
       "    </tr>\n",
       "    <tr>\n",
       "      <th>1</th>\n",
       "      <td>1085.tif</td>\n",
       "      <td>73.0</td>\n",
       "      <td>-21</td>\n",
       "      <td>41</td>\n",
       "      <td>507</td>\n",
       "      <td>536</td>\n",
       "    </tr>\n",
       "    <tr>\n",
       "      <th>2</th>\n",
       "      <td>1085.tif</td>\n",
       "      <td>73.0</td>\n",
       "      <td>-24</td>\n",
       "      <td>10</td>\n",
       "      <td>617</td>\n",
       "      <td>644</td>\n",
       "    </tr>\n",
       "    <tr>\n",
       "      <th>3</th>\n",
       "      <td>1085.tif</td>\n",
       "      <td>73.0</td>\n",
       "      <td>-49</td>\n",
       "      <td>17</td>\n",
       "      <td>652</td>\n",
       "      <td>682</td>\n",
       "    </tr>\n",
       "    <tr>\n",
       "      <th>4</th>\n",
       "      <td>1085.tif</td>\n",
       "      <td>73.0</td>\n",
       "      <td>-67</td>\n",
       "      <td>1</td>\n",
       "      <td>963</td>\n",
       "      <td>1036</td>\n",
       "    </tr>\n",
       "    <tr>\n",
       "      <th>...</th>\n",
       "      <td>...</td>\n",
       "      <td>...</td>\n",
       "      <td>...</td>\n",
       "      <td>...</td>\n",
       "      <td>...</td>\n",
       "      <td>...</td>\n",
       "    </tr>\n",
       "    <tr>\n",
       "      <th>5113</th>\n",
       "      <td>86.tif</td>\n",
       "      <td>19.0</td>\n",
       "      <td>478</td>\n",
       "      <td>493</td>\n",
       "      <td>2445</td>\n",
       "      <td>2458</td>\n",
       "    </tr>\n",
       "    <tr>\n",
       "      <th>5114</th>\n",
       "      <td>86.tif</td>\n",
       "      <td>11.0</td>\n",
       "      <td>762</td>\n",
       "      <td>956</td>\n",
       "      <td>1774</td>\n",
       "      <td>1915</td>\n",
       "    </tr>\n",
       "    <tr>\n",
       "      <th>5115</th>\n",
       "      <td>86.tif</td>\n",
       "      <td>19.0</td>\n",
       "      <td>100</td>\n",
       "      <td>141</td>\n",
       "      <td>1712</td>\n",
       "      <td>1730</td>\n",
       "    </tr>\n",
       "    <tr>\n",
       "      <th>5116</th>\n",
       "      <td>86.tif</td>\n",
       "      <td>64.0</td>\n",
       "      <td>1072</td>\n",
       "      <td>1088</td>\n",
       "      <td>2547</td>\n",
       "      <td>2568</td>\n",
       "    </tr>\n",
       "    <tr>\n",
       "      <th>5117</th>\n",
       "      <td>86.tif</td>\n",
       "      <td>63.0</td>\n",
       "      <td>1094</td>\n",
       "      <td>1105</td>\n",
       "      <td>2551</td>\n",
       "      <td>2568</td>\n",
       "    </tr>\n",
       "  </tbody>\n",
       "</table>\n",
       "<p>5118 rows × 6 columns</p>\n",
       "</div>"
      ],
      "text/plain": [
       "     image_names  object_type  xmin  xmax  ymin  ymax\n",
       "0       1085.tif         73.0   -37    29   433   472\n",
       "1       1085.tif         73.0   -21    41   507   536\n",
       "2       1085.tif         73.0   -24    10   617   644\n",
       "3       1085.tif         73.0   -49    17   652   682\n",
       "4       1085.tif         73.0   -67     1   963  1036\n",
       "...          ...          ...   ...   ...   ...   ...\n",
       "5113      86.tif         19.0   478   493  2445  2458\n",
       "5114      86.tif         11.0   762   956  1774  1915\n",
       "5115      86.tif         19.0   100   141  1712  1730\n",
       "5116      86.tif         64.0  1072  1088  2547  2568\n",
       "5117      86.tif         63.0  1094  1105  2551  2568\n",
       "\n",
       "[5118 rows x 6 columns]"
      ]
     },
     "execution_count": 14,
     "metadata": {},
     "output_type": "execute_result"
    }
   ],
   "source": [
    "train = pd.DataFrame({'image_names': new_chips, 'object_type': new_classes, 'xmin':new_coords[0].astype(int),\\\n",
    "                      'xmax':new_coords[2].astype(int),\\\n",
    "                        'ymin':new_coords[1].astype(int),'ymax':new_coords[3].astype(int)})\n",
    "train"
   ]
  },
  {
   "cell_type": "code",
   "execution_count": 15,
   "metadata": {},
   "outputs": [
    {
     "data": {
      "text/html": [
       "<div>\n",
       "<style scoped>\n",
       "    .dataframe tbody tr th:only-of-type {\n",
       "        vertical-align: middle;\n",
       "    }\n",
       "\n",
       "    .dataframe tbody tr th {\n",
       "        vertical-align: top;\n",
       "    }\n",
       "\n",
       "    .dataframe thead th {\n",
       "        text-align: right;\n",
       "    }\n",
       "</style>\n",
       "<table border=\"1\" class=\"dataframe\">\n",
       "  <thead>\n",
       "    <tr style=\"text-align: right;\">\n",
       "      <th></th>\n",
       "      <th>format</th>\n",
       "    </tr>\n",
       "  </thead>\n",
       "  <tbody>\n",
       "    <tr>\n",
       "      <th>0</th>\n",
       "      <td>1085.tif</td>\n",
       "    </tr>\n",
       "    <tr>\n",
       "      <th>1</th>\n",
       "      <td>1085.tif</td>\n",
       "    </tr>\n",
       "    <tr>\n",
       "      <th>2</th>\n",
       "      <td>1085.tif</td>\n",
       "    </tr>\n",
       "    <tr>\n",
       "      <th>3</th>\n",
       "      <td>1085.tif</td>\n",
       "    </tr>\n",
       "    <tr>\n",
       "      <th>4</th>\n",
       "      <td>1085.tif</td>\n",
       "    </tr>\n",
       "    <tr>\n",
       "      <th>...</th>\n",
       "      <td>...</td>\n",
       "    </tr>\n",
       "    <tr>\n",
       "      <th>5113</th>\n",
       "      <td>86.tif</td>\n",
       "    </tr>\n",
       "    <tr>\n",
       "      <th>5114</th>\n",
       "      <td>86.tif</td>\n",
       "    </tr>\n",
       "    <tr>\n",
       "      <th>5115</th>\n",
       "      <td>86.tif</td>\n",
       "    </tr>\n",
       "    <tr>\n",
       "      <th>5116</th>\n",
       "      <td>86.tif</td>\n",
       "    </tr>\n",
       "    <tr>\n",
       "      <th>5117</th>\n",
       "      <td>86.tif</td>\n",
       "    </tr>\n",
       "  </tbody>\n",
       "</table>\n",
       "<p>5118 rows × 1 columns</p>\n",
       "</div>"
      ],
      "text/plain": [
       "        format\n",
       "0     1085.tif\n",
       "1     1085.tif\n",
       "2     1085.tif\n",
       "3     1085.tif\n",
       "4     1085.tif\n",
       "...        ...\n",
       "5113    86.tif\n",
       "5114    86.tif\n",
       "5115    86.tif\n",
       "5116    86.tif\n",
       "5117    86.tif\n",
       "\n",
       "[5118 rows x 1 columns]"
      ]
     },
     "execution_count": 15,
     "metadata": {},
     "output_type": "execute_result"
    }
   ],
   "source": [
    "data = pd.DataFrame()\n",
    "data['format'] = train['image_names']\n",
    "\n",
    "\n",
    "# data.reset_index(drop=True, inplace=True)\n",
    "data"
   ]
  },
  {
   "cell_type": "code",
   "execution_count": 16,
   "metadata": {},
   "outputs": [],
   "source": [
    "\n",
    "# add xmin, ymin, xmax, ymax and class as per the format required\n",
    "for i in range(data.shape[0]):\n",
    "    data['format'][i] = str(data['format'][i]) + ',' + str(train['xmin'][i]) + ',' + str(train['ymin'][i]) + ',' + str(train['xmax'][i]) + ',' + str(train['ymax'][i]) + ',' + str(train['object_type'][i])\n",
    "\n",
    "#data.to_csv('annotate.txt', header=None, index=None, sep=' ')"
   ]
  },
  {
   "cell_type": "code",
   "execution_count": 17,
   "metadata": {},
   "outputs": [],
   "source": [
    "data.to_csv('annotate.txt', header=None, index=None, sep=' ')"
   ]
  },
  {
   "cell_type": "code",
   "execution_count": null,
   "metadata": {},
   "outputs": [],
   "source": []
  }
 ],
 "metadata": {
  "kernelspec": {
   "display_name": "Python 3",
   "language": "python",
   "name": "python3"
  },
  "language_info": {
   "codemirror_mode": {
    "name": "ipython",
    "version": 3
   },
   "file_extension": ".py",
   "mimetype": "text/x-python",
   "name": "python",
   "nbconvert_exporter": "python",
   "pygments_lexer": "ipython3",
   "version": "3.7.5"
  }
 },
 "nbformat": 4,
 "nbformat_minor": 2
}
